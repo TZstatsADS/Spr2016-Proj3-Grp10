{
 "cells": [
  {
   "cell_type": "code",
   "execution_count": 5,
   "metadata": {
    "collapsed": false
   },
   "outputs": [],
   "source": [
    "%matplotlib inline \n",
    "from skimage import io\n",
    "import matplotlib.pyplot as plt\n",
    "import numpy as np\n",
    "import cv2\n",
    "import os\n",
    "import pandas as pd\n",
    "from PIL import Image, ImageDraw\n",
    "import sklearn\n",
    "from os import listdir\n",
    "from os.path import isfile, join\n",
    "\n"
   ]
  },
  {
   "cell_type": "code",
   "execution_count": 25,
   "metadata": {
    "collapsed": false
   },
   "outputs": [],
   "source": [
    "cat_breed = [\"Abyssinian\", \"Bengal\", \"Birman\", \"Bombay\", \"British_Shorthair\", \"Egyptian_Mau\",\"Maine_Coon\", \"Persian\", \"Ragdoll\", \"Russian_Blue\", \"Siamese\", \"Sphynx\"]\n",
    "cat_breed = [x.lower() for x in cat_breed]"
   ]
  },
  {
   "cell_type": "code",
   "execution_count": 27,
   "metadata": {
    "collapsed": false
   },
   "outputs": [],
   "source": [
    "#Load directory of files for image names \n",
    "#My dir below is the image directory\n",
    "mydir = os.getcwd() + \"/images/Org_Images\"\n",
    "onlyfiles = [f for f in listdir(mydir) if isfile(join(mydir, f))]"
   ]
  },
  {
   "cell_type": "code",
   "execution_count": 28,
   "metadata": {
    "collapsed": false
   },
   "outputs": [],
   "source": [
    "#Create list of files for image name and create list of names\n",
    "lbl_list = []\n",
    "image_names = []\n",
    "for i in onlyfiles:\n",
    "    #print i.lower().split(\".\")[-1]\n",
    "    if  i.lower().split(\".\")[-1] == \"jpg\":\n",
    "        image_names.append(i.split(\".\")[:-1])\n",
    "        if i.lower().rpartition(\"_\")[0]  in cat_breed:\n",
    "            lbl_list.append(1) \n",
    "        else:\n",
    "            lbl_list.append(0) \n",
    "    else:\n",
    "        pass #print i\n",
    "\n"
   ]
  },
  {
   "cell_type": "code",
   "execution_count": 29,
   "metadata": {
    "collapsed": false
   },
   "outputs": [],
   "source": [
    "#Combine label list and image names\n",
    "a = pd.DataFrame(lbl_list)\n",
    "b = pd.DataFrame(image_names)\n",
    "image_list = pd.concat([a, b], axis=1)\n"
   ]
  },
  {
   "cell_type": "code",
   "execution_count": 30,
   "metadata": {
    "collapsed": false
   },
   "outputs": [],
   "source": [
    "#Load boxes from csv that was created from R\n",
    "box = pd.read_csv(\"/Users/bobminnich/Documents/Columbia/Courses/Applied_Data_Science/Project3/images/box_list.csv\")"
   ]
  },
  {
   "cell_type": "code",
   "execution_count": 31,
   "metadata": {
    "collapsed": false
   },
   "outputs": [],
   "source": [
    "box.columns = [\"RIndex\",\"title\",'xmin', 'ymin', 'xmax', 'ymax']\n",
    "image_list.columns = [\"label\",\"title\"]\n"
   ]
  },
  {
   "cell_type": "code",
   "execution_count": 32,
   "metadata": {
    "collapsed": false
   },
   "outputs": [],
   "source": [
    "result = pd.merge(image_list, box, on='title')\n",
    "#Add X Dimension\n",
    "result[\"x_len\"] = result[\"xmax\"] - result[\"xmin\"]\n",
    "#Add Y Dimension\n",
    "result[\"y_len\"] = result[\"ymax\"] - result[\"ymin\"]\n",
    "x_median = np.median(result[\"x_len\"])\n",
    "y_median = np.median(result[\"y_len\"])\n",
    "\n"
   ]
  },
  {
   "cell_type": "code",
   "execution_count": 198,
   "metadata": {
    "collapsed": false
   },
   "outputs": [],
   "source": [
    "#Load Image Directory and create Crop Directory crimdir\n",
    "imdir = \"/Users/bobminnich/Documents/Columbia/Courses/Applied_Data_Science/Project3/images/Org_Images/\"\n",
    "crimdir =\"/Users/bobminnich/Documents/Columbia/Courses/Applied_Data_Science/Project3/images/cropped/\"\n",
    "for i in range(0,result.shape[0]):\n",
    "    image_num = i\n",
    "    out = result.ix[image_num]\n",
    "    filename = result.ix[image_num,\"title\"] + \".jpg\"\n",
    "    outfile = result.ix[image_num,\"title\"] + \".thumbnail\"\n",
    "    im = Image.open(imdir + filename)\n",
    "    a = im.crop((out.xmin,out.ymin,out.xmax,out.ymax))\n",
    "    b = a.resize((155,155))\n",
    "    b.save(crimdir + filename, \"JPEG\")"
   ]
  },
  {
   "cell_type": "code",
   "execution_count": 18,
   "metadata": {
    "collapsed": false
   },
   "outputs": [],
   "source": [
    "def sifter(image,keypoints):\n",
    "    sift = cv2.SIFT(keypoints)\n",
    "    # find the keypoints and descriptors with SIFT\n",
    "    kp1, des1 = sift.detectAndCompute(image,None)\n",
    "    return des1\n",
    "def xy_coordinates(kp):\n",
    "    feature_loc_x = []\n",
    "    feature_loc_y = []\n",
    "    for i in kp:\n",
    "        feature_loc_x.append(i.pt[0])\n",
    "        feature_loc_y.append(i.pt[1])\n",
    "    return feature_loc_x,feature_loc_y\n",
    "def sifter_comare(image1,image2,keypoints):\n",
    "    sift = cv2.SIFT(keypoints)\n",
    "    bf = cv2.BFMatcher()\n",
    "    kp1, des1 = sift.detectAndCompute(image1,None)\n",
    "    kp2, des2 = sift.detectAndCompute(image2,None)\n",
    "    matches = bf.knnMatch(des1,des2, k=2)    \n",
    "    # Apply ratio test\n",
    "    good = []\n",
    "    for m,n in matches:\n",
    "        if m.distance < 0.75*n.distance:\n",
    "            good.append([m])\n",
    "    return kp1, des1,kp2, des2,good\n",
    "\n",
    "def image_selector(image_number,cropped):\n",
    "    filename = result.ix[image_number,\"title\"] + \".jpg\"\n",
    "    if cropped == True:\n",
    "        imdir =\"/Users/bobminnich/Documents/Columbia/Courses/Applied_Data_Science/Project3/images/cropped/\"\n",
    "    else:\n",
    "        imdir = \"/Users/bobminnich/Documents/Columbia/Courses/Applied_Data_Science/Project3/images/Org_Images/\"\n",
    "    img1 = cv2.imread(imdir + filename)\n",
    "    gray1= cv2.cvtColor(img1,cv2.COLOR_BGR2GRAY)\n",
    "    return gray1\n",
    "\n",
    "def descript_compare(des1,des2):\n",
    "    bf = cv2.BFMatcher()\n",
    "    matches = bf.knnMatch(des1,des2, k=2)    \n",
    "    good = []\n",
    "    for m,n in matches:\n",
    "        if m.distance < 0.75*n.distance:\n",
    "            good.append(m.distance)\n",
    "    return good\n",
    "\n"
   ]
  },
  {
   "cell_type": "code",
   "execution_count": 19,
   "metadata": {
    "collapsed": false
   },
   "outputs": [
    {
     "ename": "NameError",
     "evalue": "global name 'result' is not defined",
     "output_type": "error",
     "traceback": [
      "\u001b[0;31m---------------------------------------------------------------------------\u001b[0m",
      "\u001b[0;31mNameError\u001b[0m                                 Traceback (most recent call last)",
      "\u001b[0;32m<ipython-input-19-78bf20ad89c6>\u001b[0m in \u001b[0;36m<module>\u001b[0;34m()\u001b[0m\n\u001b[0;32m----> 1\u001b[0;31m \u001b[0mim1\u001b[0m \u001b[0;34m=\u001b[0m \u001b[0mimage_selector\u001b[0m\u001b[0;34m(\u001b[0m\u001b[0;36m2\u001b[0m\u001b[0;34m,\u001b[0m\u001b[0mFalse\u001b[0m\u001b[0;34m)\u001b[0m\u001b[0;34m\u001b[0m\u001b[0m\n\u001b[0m\u001b[1;32m      2\u001b[0m \u001b[0mim2\u001b[0m \u001b[0;34m=\u001b[0m \u001b[0mimage_selector\u001b[0m\u001b[0;34m(\u001b[0m\u001b[0;36m1000\u001b[0m\u001b[0;34m,\u001b[0m\u001b[0mTrue\u001b[0m\u001b[0;34m)\u001b[0m\u001b[0;34m\u001b[0m\u001b[0m\n\u001b[1;32m      3\u001b[0m \u001b[0;34m\u001b[0m\u001b[0m\n\u001b[1;32m      4\u001b[0m \u001b[0;34m\u001b[0m\u001b[0m\n\u001b[1;32m      5\u001b[0m \u001b[0mplt\u001b[0m\u001b[0;34m.\u001b[0m\u001b[0msubplot\u001b[0m\u001b[0;34m(\u001b[0m\u001b[0;36m121\u001b[0m\u001b[0;34m)\u001b[0m\u001b[0;34m,\u001b[0m\u001b[0mplt\u001b[0m\u001b[0;34m.\u001b[0m\u001b[0mimshow\u001b[0m\u001b[0;34m(\u001b[0m\u001b[0mim1\u001b[0m\u001b[0;34m,\u001b[0m\u001b[0mcmap\u001b[0m \u001b[0;34m=\u001b[0m \u001b[0;34m'gray'\u001b[0m\u001b[0;34m)\u001b[0m\u001b[0;34m\u001b[0m\u001b[0m\n",
      "\u001b[0;32m<ipython-input-18-43cf7a4bb492>\u001b[0m in \u001b[0;36mimage_selector\u001b[0;34m(image_number, cropped)\u001b[0m\n\u001b[1;32m     25\u001b[0m \u001b[0;34m\u001b[0m\u001b[0m\n\u001b[1;32m     26\u001b[0m \u001b[0;32mdef\u001b[0m \u001b[0mimage_selector\u001b[0m\u001b[0;34m(\u001b[0m\u001b[0mimage_number\u001b[0m\u001b[0;34m,\u001b[0m\u001b[0mcropped\u001b[0m\u001b[0;34m)\u001b[0m\u001b[0;34m:\u001b[0m\u001b[0;34m\u001b[0m\u001b[0m\n\u001b[0;32m---> 27\u001b[0;31m     \u001b[0mfilename\u001b[0m \u001b[0;34m=\u001b[0m \u001b[0mresult\u001b[0m\u001b[0;34m.\u001b[0m\u001b[0mix\u001b[0m\u001b[0;34m[\u001b[0m\u001b[0mimage_number\u001b[0m\u001b[0;34m,\u001b[0m\u001b[0;34m\"title\"\u001b[0m\u001b[0;34m]\u001b[0m \u001b[0;34m+\u001b[0m \u001b[0;34m\".jpg\"\u001b[0m\u001b[0;34m\u001b[0m\u001b[0m\n\u001b[0m\u001b[1;32m     28\u001b[0m     \u001b[0;32mif\u001b[0m \u001b[0mcropped\u001b[0m \u001b[0;34m==\u001b[0m \u001b[0mTrue\u001b[0m\u001b[0;34m:\u001b[0m\u001b[0;34m\u001b[0m\u001b[0m\n\u001b[1;32m     29\u001b[0m         \u001b[0mimdir\u001b[0m \u001b[0;34m=\u001b[0m\u001b[0;34m\"/Users/bobminnich/Documents/Columbia/Courses/Applied_Data_Science/Project3/images/cropped/\"\u001b[0m\u001b[0;34m\u001b[0m\u001b[0m\n",
      "\u001b[0;31mNameError\u001b[0m: global name 'result' is not defined"
     ]
    }
   ],
   "source": [
    "im1 = image_selector(2,False)\n",
    "im2 = image_selector(1000,True)\n",
    "\n",
    "\n",
    "plt.subplot(121),plt.imshow(im1,cmap = 'gray')\n",
    "plt.title('Original Image'), plt.xticks([]), plt.yticks([])\n",
    "plt.subplot(122),plt.imshow(im2,cmap = 'gray')\n",
    "plt.title('Edge Image'), plt.xticks([]), plt.yticks([])\n",
    "\n"
   ]
  },
  {
   "cell_type": "code",
   "execution_count": 642,
   "metadata": {
    "collapsed": false
   },
   "outputs": [
    {
     "name": "stderr",
     "output_type": "stream",
     "text": [
      "/usr/local/lib/python2.7/site-packages/sklearn/cross_validation.py:42: DeprecationWarning: This module has been deprecated in favor of the model_selection module into which all the refactored classes and functions are moved. Also note that the interface of the new CV iterators are different from that of this module. This module will be removed in 0.20.\n",
      "  \"This module will be removed in 0.20.\", DeprecationWarning)\n"
     ]
    }
   ],
   "source": [
    "from sklearn.cross_validation import train_test_split"
   ]
  },
  {
   "cell_type": "code",
   "execution_count": 647,
   "metadata": {
    "collapsed": false
   },
   "outputs": [],
   "source": [
    "train_index,test_index = sklearn.cross_validation.train_test_split(result.index,test_size=0.33, random_state=42)"
   ]
  },
  {
   "cell_type": "code",
   "execution_count": 668,
   "metadata": {
    "collapsed": false
   },
   "outputs": [],
   "source": [
    "#Create training Descriptors\n",
    "descriptors = []\n",
    "for i in train_index:\n",
    "    image = image_selector(i,True)\n",
    "    keypoints = 100\n",
    "    sift = sifter(image,keypoints)\n",
    "    descriptors.append(sift)"
   ]
  },
  {
   "cell_type": "code",
   "execution_count": 687,
   "metadata": {
    "collapsed": false
   },
   "outputs": [],
   "source": [
    "#Create Test Descriptors\n",
    "descriptors_test = []\n",
    "for i in test_index:\n",
    "    image = image_selector(i,False)\n",
    "    keypoints = 100\n",
    "    sift = sifter(image,keypoints)\n",
    "    descriptors_test.append(sift)"
   ]
  },
  {
   "cell_type": "code",
   "execution_count": 1047,
   "metadata": {
    "collapsed": false
   },
   "outputs": [],
   "source": [
    "#Create predictions\n",
    "pred = []\n",
    "for j in range(0,100): \n",
    "    results = []\n",
    "    results_count = []\n",
    "    for i in range(0,len(train_index)):\n",
    "        a =  descript_compare(descriptors[i], descriptors_test[j])\n",
    "        if len(a) == 0:\n",
    "            results.append(9999999)\n",
    "            results_count.append(len(a))\n",
    "        else:\n",
    "            results.append(np.median(a))\n",
    "            results_count.append(len(a))\n",
    "    a = np.array(results)\n",
    "    b = np.array(np.argsort(a))\n",
    "    seq = range(7)\n",
    "    c = result.ix[b[seq]]\n",
    "    if (sum(c.label)+0.0)/c.shape[0] >= 0.5 :\n",
    "        pred.append(1)\n",
    "    else:\n",
    "        pred.append(0)"
   ]
  },
  {
   "cell_type": "code",
   "execution_count": 1048,
   "metadata": {
    "collapsed": false
   },
   "outputs": [
    {
     "data": {
      "text/plain": [
       "0.62"
      ]
     },
     "execution_count": 1048,
     "metadata": {},
     "output_type": "execute_result"
    }
   ],
   "source": [
    "(sum(pred == result.label[test_index[range(0,100)]])+0.0)/100"
   ]
  }
 ],
 "metadata": {
  "kernelspec": {
   "display_name": "Python 2",
   "language": "python",
   "name": "python2"
  },
  "language_info": {
   "codemirror_mode": {
    "name": "ipython",
    "version": 2
   },
   "file_extension": ".py",
   "mimetype": "text/x-python",
   "name": "python",
   "nbconvert_exporter": "python",
   "pygments_lexer": "ipython2",
   "version": "2.7.11"
  }
 },
 "nbformat": 4,
 "nbformat_minor": 0
}
